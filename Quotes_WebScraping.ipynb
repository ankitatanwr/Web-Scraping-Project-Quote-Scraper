{
 "cells": [
  {
   "cell_type": "code",
   "execution_count": 95,
   "id": "6fdd6585-84bf-4654-8ef4-1f19fe0894a8",
   "metadata": {},
   "outputs": [
    {
     "name": "stdout",
     "output_type": "stream",
     "text": [
      "Data has been successfully saved to C:/Users/intel/Desktop/quotes.csv\n"
     ]
    }
   ],
   "source": [
    "import requests\n",
    "from bs4 import BeautifulSoup\n",
    "import csv\n",
    "\n",
    "url = 'http://quotes.toscrape.com'\n",
    "response = requests.get(url)\n",
    "\n",
    "soup = BeautifulSoup(response.text, 'html.parser')\n",
    "\n",
    "quotes = soup.find_all('div', class_='quote')\n",
    "\n",
    "data = []\n",
    "for quote in quotes:\n",
    "    text = quote.find('span', class_='text').get_text()  # Extract quote text\n",
    "    author = quote.find('small', class_='author').get_text()  # Extract author name\n",
    "    tags = [tag.get_text() for tag in quote.find_all('a', class_='tag')]  # Extract tags\n",
    "\n",
    "    data.append([text, author, ', '.join(tags)])\n",
    "\n",
    "filename = \"C:/Users/intel/Desktop/quotes.csv\"\n",
    "with open(filename, 'w', newline='', encoding='utf-8') as file:\n",
    "    writer = csv.writer(file)\n",
    "    writer.writerow(['Quote', 'Author', 'Tags'])  # Write the header\n",
    "    writer.writerows(data)  # Write the scraped data\n",
    "\n",
    "print(f\"Data has been successfully saved to {filename}\")\n"
   ]
  },
  {
   "cell_type": "code",
   "execution_count": null,
   "id": "8ddacdd3-886f-403a-b5ed-39b0bd9d106f",
   "metadata": {},
   "outputs": [],
   "source": []
  }
 ],
 "metadata": {
  "kernelspec": {
   "display_name": "Python [conda env:base] *",
   "language": "python",
   "name": "conda-base-py"
  },
  "language_info": {
   "codemirror_mode": {
    "name": "ipython",
    "version": 3
   },
   "file_extension": ".py",
   "mimetype": "text/x-python",
   "name": "python",
   "nbconvert_exporter": "python",
   "pygments_lexer": "ipython3",
   "version": "3.12.7"
  }
 },
 "nbformat": 4,
 "nbformat_minor": 5
}
